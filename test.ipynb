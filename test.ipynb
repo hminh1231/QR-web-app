{
 "cells": [
  {
   "cell_type": "code",
   "execution_count": 22,
   "metadata": {},
   "outputs": [
    {
     "name": "stderr",
     "output_type": "stream",
     "text": [
      "/var/folders/ph/10ntzb0j52vdkmywmnbtdlcw0000gn/T/ipykernel_10189/486868890.py:55: FutureWarning: save is not part of the public API, usage can give unexpected results and will be removed in a future version\n",
      "  writer.save()\n"
     ]
    }
   ],
   "source": [
    "\n",
    "import pandas as pd\n",
    "import openpyxl\n",
    "from PIL import Image\n",
    "import io\n",
    "\n",
    "# Create your DataFrame with image paths and metadata\n",
    "data = {\n",
    "    'Image': ['product_qr.png', 'product_qr.png', 'product_qr.png'],\n",
    "    'Project': ['Project A', 'Project B', 'Project A'],\n",
    "    'Boring No.': [1, 2, 1],\n",
    "    'Sample No.': [101, 102, 103],\n",
    "    'Depth (m)': [5.6, 7.8, 6.4],\n",
    "    'Bag / Tube': ['Bag', 'Tube', 'Bag'],\n",
    "    'Test Name': ['Test1', 'Test2', 'Test3'],\n",
    "    'Remarks': ['Remark1', 'Remark2', 'Remark3']\n",
    "}\n",
    "\n",
    "df = pd.DataFrame(data)\n",
    "\n",
    "# Function to load and return images\n",
    "def load_image(image_path):\n",
    "    try:\n",
    "        img = Image.open(image_path)\n",
    "        return img\n",
    "    except Exception as e:\n",
    "        return None\n",
    "\n",
    "# Apply the load_image function to create a new column 'Image Data'\n",
    "df['Image Data'] = df['Image'].apply(load_image)\n",
    "\n",
    "# Create a writer object for Excel\n",
    "writer = pd.ExcelWriter('image_metadata.xlsx', engine='openpyxl')\n",
    "\n",
    "# Save the DataFrame to Excel, including images\n",
    "df.to_excel(writer, sheet_name='Image_Data', index=False)\n",
    "\n",
    "# Get the workbook and the sheet\n",
    "workbook = writer.book\n",
    "worksheet = writer.sheets['Image_Data']\n",
    "\n",
    "# Set the column width for the 'Image Data' column to accommodate the images\n",
    "worksheet.column_dimensions['A'].width = 20\n",
    "\n",
    "# Add the images to the Excel file\n",
    "for index, row in df.iterrows():\n",
    "    if row['Image Data'] is not None:\n",
    "        img_data = io.BytesIO()\n",
    "        row['Image Data'].save(img_data, format='PNG')\n",
    "        img_data.seek(0)\n",
    "        img = openpyxl.drawing.image.Image(img_data)\n",
    "        img.anchor = 'A{}'.format(index + 2)  # Place the image in column 'A', starting from row 2\n",
    "        worksheet.add_image(img)\n",
    "\n",
    "# Save the Excel file\n",
    "writer.save()"
   ]
  },
  {
   "cell_type": "code",
   "execution_count": null,
   "metadata": {},
   "outputs": [],
   "source": [
    "from openpyxl import Workbook\n",
    "from openpyxl.drawing.image import Image\n",
    "import os\n",
    "\n",
    "# Tạo một bảng tính mới và chọn sheet đầu tiên\n",
    "wb = Workbook()\n",
    "ws = wb.active\n",
    "\n",
    "# Định nghĩa thư mục chứa ảnh và danh sách tên file ảnh\n",
    "image_folder = './'  # Thay thế bằng đường dẫn thực tế đến thư mục chứa ảnh\n",
    "image_files = ['product_qr.png', 'product_qr.png', 'product_qr.png']  # Thêm tên file ảnh của bạn vào đây\n",
    "\n",
    "# Lặp qua các file ảnh và thêm chúng vào bảng tính Excel\n",
    "for i, image_file in enumerate(image_files, start=1):\n",
    "    # Tạo tham chiếu ô (như 'A1', 'A2', v.v.)\n",
    "    cell_ref = f'A{i}'\n",
    "    \n",
    "    # Tải ảnh\n",
    "    img = Image(os.path.join(image_folder, image_file))\n",
    "    \n",
    "    # Thêm ảnh vào ô\n",
    "    ws.add_image(img, cell_ref)\n",
    "\n",
    "# Lưu bảng tính\n",
    "wb.save('images_in_excel.xlsx')\n"
   ]
  }
 ],
 "metadata": {
  "kernelspec": {
   "display_name": "toan_env",
   "language": "python",
   "name": "python3"
  },
  "language_info": {
   "codemirror_mode": {
    "name": "ipython",
    "version": 3
   },
   "file_extension": ".py",
   "mimetype": "text/x-python",
   "name": "python",
   "nbconvert_exporter": "python",
   "pygments_lexer": "ipython3",
   "version": "3.8.18"
  }
 },
 "nbformat": 4,
 "nbformat_minor": 2
}
